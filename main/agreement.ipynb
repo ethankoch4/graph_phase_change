{
 "cells": [
  {
   "cell_type": "code",
   "execution_count": 5,
   "metadata": {},
   "outputs": [],
   "source": [
    "import itertools"
   ]
  },
  {
   "cell_type": "code",
   "execution_count": 6,
   "metadata": {},
   "outputs": [],
   "source": [
    "'''\n",
    "calculates agreement score for the labeling of a community\n",
    "\n",
    "input variables\n",
    "x - true labels of verticies\n",
    "y - predicted labels of verticies\n",
    "n - number of verticies\n",
    "k - number of communities\n",
    "output variable\n",
    "score - agreement score\n",
    "'''\n",
    "def agreement(x, y, n, k):\n",
    "    max_score = 0\n",
    "    relabelings = create_relabelings(y,k)\n",
    "    for r in relabelings:\n",
    "        count = 0\n",
    "        for i in range(n):\n",
    "            if x[i]==r[i]:\n",
    "                count+=1\n",
    "        score = count/n\n",
    "        if score > max_score:\n",
    "            max_score = score\n",
    "    return max_score\n",
    "\n",
    "'''\n",
    "calculates possible of permutations of labels of predicted labels of verticies\n",
    "i.e. maintain community association within vector but changes the label values\n",
    "\n",
    "input variables\n",
    "y - relabelings of verticies\n",
    "k - number of communities\n",
    "output variable\n",
    "relabeling - possible relabelings of y\n",
    "'''\n",
    "def create_relabelings(y, k):\n",
    "    relabelings = []\n",
    "    permutations = list(itertools.permutations(range(k)))\n",
    "    for p in permutations:\n",
    "        relabelings.append(relabel(y[:], p))\n",
    "    return relabelings\n",
    "\n",
    "'''\n",
    "relabels an array based on the permutation\n",
    "'''\n",
    "def relabel(a, l):\n",
    "    for i in range(len(a)):\n",
    "        a[i] = l[a[i]]\n",
    "    return a"
   ]
  },
  {
   "cell_type": "code",
   "execution_count": 7,
   "metadata": {},
   "outputs": [
    {
     "name": "stdout",
     "output_type": "stream",
     "text": [
      "1.0\n"
     ]
    }
   ],
   "source": [
    "x = [0,0,0,0,1,1,1,1]\n",
    "y = [0,0,0,0,1,1,1,1]\n",
    "#should be 1\n",
    "score = agreement(x,y,len(x),2)\n",
    "print(score)"
   ]
  },
  {
   "cell_type": "code",
   "execution_count": 8,
   "metadata": {},
   "outputs": [
    {
     "name": "stdout",
     "output_type": "stream",
     "text": [
      "1.0\n"
     ]
    }
   ],
   "source": [
    "x = [0,0,0,0,1,1,1,1]\n",
    "y = [1,1,1,1,0,0,0,0]\n",
    "#should be 1\n",
    "score = agreement(x,y,len(x),2)\n",
    "print(score)"
   ]
  },
  {
   "cell_type": "code",
   "execution_count": 11,
   "metadata": {},
   "outputs": [
    {
     "name": "stdout",
     "output_type": "stream",
     "text": [
      "0.75\n"
     ]
    }
   ],
   "source": [
    "x = [0,0,0,0,1,1,1,1]\n",
    "y = [1,1,0,0,0,0,0,0]\n",
    "#should be 0.75\n",
    "score = agreement(x,y,len(x),2)\n",
    "print(score)"
   ]
  },
  {
   "cell_type": "code",
   "execution_count": 14,
   "metadata": {},
   "outputs": [
    {
     "name": "stdout",
     "output_type": "stream",
     "text": [
      "0.5\n"
     ]
    }
   ],
   "source": [
    "x = [0,0,0,0,1,1,1,1,0,0,0,0,1,1,1,1]\n",
    "y = [0,0,0,0,0,0,0,0,0,0,0,0,0,0,0,0]\n",
    "#should be 0.5\n",
    "score = agreement(x,y,len(x),2)\n",
    "print(score)"
   ]
  },
  {
   "cell_type": "code",
   "execution_count": 15,
   "metadata": {},
   "outputs": [
    {
     "name": "stdout",
     "output_type": "stream",
     "text": [
      "1.0\n"
     ]
    }
   ],
   "source": [
    "x = [0,0,0,0,1,1,1,1,2,2,2,2,3,3,3,3]\n",
    "y = [0,0,0,0,2,2,2,2,3,3,3,3,1,1,1,1]\n",
    "#should be 1.0\n",
    "score = agreement(x,y,len(x),4)\n",
    "print(score)"
   ]
  },
  {
   "cell_type": "code",
   "execution_count": 17,
   "metadata": {},
   "outputs": [
    {
     "name": "stdout",
     "output_type": "stream",
     "text": [
      "0.9375\n"
     ]
    }
   ],
   "source": [
    "x = [0,0,0,0,1,1,1,1,2,2,2,2,3,3,3,3]\n",
    "y = [0,0,0,0,2,2,2,3,3,3,3,3,1,1,1,1]\n",
    "#should be 0.9375\n",
    "score = agreement(x,y,len(x),4)\n",
    "print(score)"
   ]
  },
  {
   "cell_type": "code",
   "execution_count": 18,
   "metadata": {},
   "outputs": [
    {
     "name": "stdout",
     "output_type": "stream",
     "text": [
      "1.0\n"
     ]
    }
   ],
   "source": [
    "x = [0,0,0,0,1,1,1,1,2,2,2,2,3,3,3,3]\n",
    "y = [1,1,1,1,2,2,2,2,0,0,0,0,3,3,3,3]\n",
    "#should be 1.0\n",
    "score = agreement(x,y,len(x),4)\n",
    "print(score)"
   ]
  },
  {
   "cell_type": "code",
   "execution_count": 21,
   "metadata": {},
   "outputs": [
    {
     "name": "stdout",
     "output_type": "stream",
     "text": [
      "1.0\n"
     ]
    }
   ],
   "source": [
    "x = [0,1,2,3,1,2,3,0,2,2,2,2,3,3,3,3]\n",
    "y = [2,0,1,3,0,1,3,2,1,1,1,1,3,3,3,3]\n",
    "#should be 1.0\n",
    "score = agreement(x,y,len(x),4)\n",
    "print(score)"
   ]
  }
 ],
 "metadata": {
  "kernelspec": {
   "display_name": "Python 3",
   "language": "python",
   "name": "python3"
  },
  "language_info": {
   "codemirror_mode": {
    "name": "ipython",
    "version": 3
   },
   "file_extension": ".py",
   "mimetype": "text/x-python",
   "name": "python",
   "nbconvert_exporter": "python",
   "pygments_lexer": "ipython3",
   "version": "3.6.1"
  }
 },
 "nbformat": 4,
 "nbformat_minor": 2
}
