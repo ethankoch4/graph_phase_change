{
 "cells": [
  {
   "cell_type": "code",
   "execution_count": 1,
   "metadata": {
    "collapsed": true
   },
   "outputs": [],
   "source": [
    "import re"
   ]
  },
  {
   "cell_type": "code",
   "execution_count": 2,
   "metadata": {
    "collapsed": true
   },
   "outputs": [],
   "source": [
    "import numpy as np"
   ]
  },
  {
   "cell_type": "code",
   "execution_count": 7,
   "metadata": {
    "collapsed": false
   },
   "outputs": [
    {
     "name": "stdout",
     "output_type": "stream",
     "text": [
      "9790\n"
     ]
    }
   ],
   "source": [
    "all_lines = []\n",
    "with open('2_sbms.log','r') as f:\n",
    "    for line in f.readlines():\n",
    "        if len(str(line).strip()) > 0:\n",
    "            all_lines.append(str(line).strip())\n",
    "print(len(all_lines))"
   ]
  },
  {
   "cell_type": "code",
   "execution_count": 8,
   "metadata": {
    "collapsed": false
   },
   "outputs": [
    {
     "name": "stdout",
     "output_type": "stream",
     "text": [
      "4837\n"
     ]
    }
   ],
   "source": [
    "all_lines = list(set(all_lines))\n",
    "print(len(all_lines))"
   ]
  },
  {
   "cell_type": "code",
   "execution_count": 10,
   "metadata": {
    "collapsed": false
   },
   "outputs": [
    {
     "data": {
      "text/plain": [
       "{'At createA(...)',\n",
       " 'At eval_multiple_walks(...)',\n",
       " 'At iterate_out_of_class_probs(...)',\n",
       " 'At kmeans_evaluate(...)',\n",
       " 'At multiple_sbm_iterate(...)',\n",
       " 'At preprocess_transition_probs(...)',\n",
       " 'At simulate_walks(...)',\n",
       " 'Beginning to generate phase change plots.',\n",
       " 'Currently at iteration ',\n",
       " 'Script completed generating phase change plots..',\n",
       " 'TOTAL TIME FOR THE DATA/PLOT AT THESE SETTINGS TO BE GENERATED',\n",
       " \"Time elapsed while running 'createA' function\",\n",
       " \"Time elapsed while running 'eval_multiple_walks' function\",\n",
       " \"Time elapsed while running 'iterate_out_of_class_probs' function\",\n",
       " \"Time elapsed while running 'kmeans_evaluate' function\",\n",
       " \"Time elapsed while running 'learn_embeddings' function\",\n",
       " \"Time elapsed while running 'multiple_sbm_iterate' function\",\n",
       " \"Time elapsed while running 'preprocess_transition_probs' function\",\n",
       " \"Time elapsed while running 'simulate_walks' function\"}"
      ]
     },
     "execution_count": 10,
     "metadata": {},
     "output_type": "execute_result"
    }
   ],
   "source": [
    "cut_off_lines = [line.split(':')[0] for line in all_lines]\n",
    "set(cut_off_lines)"
   ]
  },
  {
   "cell_type": "code",
   "execution_count": 35,
   "metadata": {
    "collapsed": false
   },
   "outputs": [
    {
     "name": "stdout",
     "output_type": "stream",
     "text": [
      "'kmeans_evaluate' function 0.34132813597928907\n",
      "\n",
      "'learn_embeddings' function 15.238719594239997\n",
      "\n",
      "TOTAL_TIME_FOR_THESE_SETTINGS 28300.349147184035\n",
      "\n",
      "'simulate_walks' function 13.448381095955462\n",
      "\n",
      "'createA' function 0.12435923908771784\n",
      "\n",
      "'preprocess_transition_probs' function 68.70141406942075\n",
      "\n",
      "'multiple_sbm_iterate' function 19788.806309598625\n",
      "\n",
      "'eval_multiple_walks' function 98.80991478847264\n",
      "\n",
      "'iterate_out_of_class_probs' function 9894.399615002154\n",
      "\n"
     ]
    }
   ],
   "source": [
    "lines_dict = {}\n",
    "lines_dict['TOTAL_TIME_FOR_THESE_SETTINGS'] = []\n",
    "\n",
    "for line in all_lines:\n",
    "    if 'TOTAL' == line[:5]:\n",
    "        lines_dict['TOTAL_TIME_FOR_THESE_SETTINGS'].append(float(line.split('GENERATED:')[-1]))\n",
    "    if 'Time' != line[:4]:\n",
    "        continue\n",
    "    if line.split(':')[0].split('running ')[-1] in lines_dict.keys():\n",
    "        lines_dict[line.split(':')[0].split('running ')[-1]].append(float(line.split(':')[-1].strip()))\n",
    "    else:\n",
    "        lines_dict[line.split(':')[0].split('running ')[-1]] = []\n",
    "        lines_dict[line.split(':')[0].split('running ')[-1]].append(float(line.split(':')[-1].strip()))\n",
    "for key in lines_dict.keys():\n",
    "    lines_dict[key] = sum(lines_dict[key])/len(lines_dict[key])\n",
    "    print(key, lines_dict[key])\n",
    "    print()"
   ]
  },
  {
   "cell_type": "code",
   "execution_count": 36,
   "metadata": {
    "collapsed": false
   },
   "outputs": [
    {
     "name": "stdout",
     "output_type": "stream",
     "text": [
      "'createA' function\n",
      "0.1244 seconds\n",
      "0.0021 minutes\n",
      "0.0 hours\n",
      "\n",
      "'kmeans_evaluate' function\n",
      "0.3413 seconds\n",
      "0.0057 minutes\n",
      "0.0001 hours\n",
      "\n",
      "'simulate_walks' function\n",
      "13.4484 seconds\n",
      "0.2241 minutes\n",
      "0.0037 hours\n",
      "\n",
      "'learn_embeddings' function\n",
      "15.2387 seconds\n",
      "0.254 minutes\n",
      "0.0042 hours\n",
      "\n",
      "'preprocess_transition_probs' function\n",
      "68.7014 seconds\n",
      "1.145 minutes\n",
      "0.0191 hours\n",
      "\n",
      "'eval_multiple_walks' function\n",
      "98.8099 seconds\n",
      "1.6468 minutes\n",
      "0.0274 hours\n",
      "\n",
      "'iterate_out_of_class_probs' function\n",
      "9894.3996 seconds\n",
      "164.9067 minutes\n",
      "2.7484 hours\n",
      "\n",
      "'multiple_sbm_iterate' function\n",
      "19788.8063 seconds\n",
      "329.8134 minutes\n",
      "5.4969 hours\n",
      "\n",
      "TOTAL_TIME_FOR_THESE_SETTINGS\n",
      "28300.3491 seconds\n",
      "471.6725 minutes\n",
      "7.8612 hours\n",
      "\n"
     ]
    }
   ],
   "source": [
    "s = [(k, lines_dict[k]) for k in sorted(lines_dict, key=lines_dict.get)]\n",
    "for k,v in s:\n",
    "    print(k)\n",
    "    print(str(round(v,4))+' seconds\\n'+str(round(v/60,4))+' minutes\\n'+str(round(v/3600,4))+' hours\\n')"
   ]
  },
  {
   "cell_type": "code",
   "execution_count": null,
   "metadata": {
    "collapsed": true
   },
   "outputs": [],
   "source": []
  }
 ],
 "metadata": {
  "kernelspec": {
   "display_name": "Python 3",
   "language": "python",
   "name": "python3"
  },
  "language_info": {
   "codemirror_mode": {
    "name": "ipython",
    "version": 3
   },
   "file_extension": ".py",
   "mimetype": "text/x-python",
   "name": "python",
   "nbconvert_exporter": "python",
   "pygments_lexer": "ipython3",
   "version": "3.5.3"
  }
 },
 "nbformat": 4,
 "nbformat_minor": 0
}
