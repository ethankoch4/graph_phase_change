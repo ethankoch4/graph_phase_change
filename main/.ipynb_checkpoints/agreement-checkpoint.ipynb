{
 "cells": [
  {
   "cell_type": "code",
   "execution_count": 14,
   "metadata": {
    "collapsed": true
   },
   "outputs": [],
   "source": [
    "import itertools\n",
    "import numpy as np"
   ]
  },
  {
   "cell_type": "code",
   "execution_count": 19,
   "metadata": {
    "collapsed": false
   },
   "outputs": [
    {
     "data": {
      "text/plain": [
       "[(2, 1, 0), (1, 2, 0), (0, 1, 2), (2, 0, 1), (0, 2, 1), (1, 0, 2)]"
      ]
     },
     "execution_count": 19,
     "metadata": {},
     "output_type": "execute_result"
    }
   ],
   "source": [
    "r = itertools.permutations(set([0,0,1,1,1,2,2,2]))\n",
    "r = list(set(r))\n",
    "r"
   ]
  },
  {
   "cell_type": "code",
   "execution_count": 21,
   "metadata": {
    "collapsed": false
   },
   "outputs": [
    {
     "name": "stdout",
     "output_type": "stream",
     "text": [
      "[0, 0, 1, 1, 1, 2, 2, 2] \n",
      "\n",
      "[2 2 1 1 1 0 0 0]\n",
      "[1 1 2 2 2 0 0 0]\n",
      "[0 0 1 1 1 2 2 2]\n",
      "[2 2 0 0 0 1 1 1]\n",
      "[0 0 2 2 2 1 1 1]\n",
      "[1 1 0 0 0 2 2 2]\n"
     ]
    }
   ],
   "source": [
    "b = [0,0,1,1,1,2,2,2]\n",
    "print(b,'\\n')\n",
    "for rel in r:\n",
    "    rel = np.array(rel)\n",
    "    print(rel[list(b)])"
   ]
  },
  {
   "cell_type": "code",
   "execution_count": 52,
   "metadata": {
    "collapsed": true
   },
   "outputs": [],
   "source": [
    "def agreement(y, y_hat):\n",
    "    '''\n",
    "    calculates agreement score for the labeling of a community\n",
    "\n",
    "    input variables\n",
    "    x - true labels of verticies\n",
    "    y - predicted labels of verticies\n",
    "    output variable\n",
    "    score - agreement score\n",
    "    '''\n",
    "    max_score = 0\n",
    "    relabelings = create_relabelings(y_hat)\n",
    "    y = np.array(y)\n",
    "    return max([np.sum(y == relabeling)/len(y) for relabeling in relabelings])\n",
    "\n",
    "def create_relabelings(y):\n",
    "    '''\n",
    "    calculates possible of permutations of labels of predicted labels of verticies\n",
    "    i.e. maintain community association within vector but changes the label values\n",
    "\n",
    "    input variables\n",
    "    y - relabelings of vertices\n",
    "    output variable\n",
    "    relabeling - possible relabelings of y\n",
    "    '''\n",
    "    lookups = list(set(itertools.permutations(set(y))))\n",
    "    relabelings = []\n",
    "    for lookup in lookups:\n",
    "        lookup = np.array(lookup)\n",
    "        relabelings.append(np.array(lookup[y]))\n",
    "    return relabelings"
   ]
  },
  {
   "cell_type": "code",
   "execution_count": 53,
   "metadata": {
    "collapsed": false
   },
   "outputs": [
    {
     "name": "stdout",
     "output_type": "stream",
     "text": [
      "1.0\n"
     ]
    }
   ],
   "source": [
    "y = [0,0,0,0,1,1,1,1]\n",
    "y_hat = [0,0,0,0,1,1,1,1]\n",
    "#should be 1\n",
    "score = agreement(y,y_hat)\n",
    "print(score)"
   ]
  },
  {
   "cell_type": "code",
   "execution_count": 55,
   "metadata": {
    "collapsed": false
   },
   "outputs": [
    {
     "name": "stdout",
     "output_type": "stream",
     "text": [
      "1.0\n"
     ]
    }
   ],
   "source": [
    "y = [0,0,0,0,1,1,1,1]\n",
    "y_hat = [1,1,1,1,0,0,0,0]\n",
    "#should be 1\n",
    "score = agreement(y,y_hat)\n",
    "print(score)"
   ]
  },
  {
   "cell_type": "code",
   "execution_count": 56,
   "metadata": {
    "collapsed": false
   },
   "outputs": [
    {
     "name": "stdout",
     "output_type": "stream",
     "text": [
      "0.75\n"
     ]
    }
   ],
   "source": [
    "y = [0,0,0,0,1,1,1,1]\n",
    "y_hat = [1,1,0,0,0,0,0,0]\n",
    "#should be 0.75\n",
    "score = agreement(y,y_hat)\n",
    "print(score)"
   ]
  },
  {
   "cell_type": "code",
   "execution_count": 58,
   "metadata": {
    "collapsed": false
   },
   "outputs": [
    {
     "name": "stdout",
     "output_type": "stream",
     "text": [
      "0.5\n"
     ]
    }
   ],
   "source": [
    "y = [0,0,0,0,1,1,1,1,0,0,0,0,1,1,1,1]\n",
    "y_hat = [0,0,0,0,0,0,0,0,0,0,0,0,0,0,0,0]\n",
    "#should be 0.5\n",
    "score = agreement(y,y_hat)\n",
    "print(score)"
   ]
  },
  {
   "cell_type": "code",
   "execution_count": 59,
   "metadata": {
    "collapsed": false
   },
   "outputs": [
    {
     "name": "stdout",
     "output_type": "stream",
     "text": [
      "1.0\n"
     ]
    }
   ],
   "source": [
    "y = [0,0,0,0,1,1,1,1,2,2,2,2,3,3,3,3]\n",
    "y_hat = [0,0,0,0,2,2,2,2,3,3,3,3,1,1,1,1]\n",
    "#should be 1.0\n",
    "score = agreement(y,y_hat)\n",
    "print(score)"
   ]
  },
  {
   "cell_type": "code",
   "execution_count": 60,
   "metadata": {
    "collapsed": false
   },
   "outputs": [
    {
     "name": "stdout",
     "output_type": "stream",
     "text": [
      "0.9375\n"
     ]
    }
   ],
   "source": [
    "y = [0,0,0,0,1,1,1,1,2,2,2,2,3,3,3,3]\n",
    "y_hat = [0,0,0,0,2,2,2,3,3,3,3,3,1,1,1,1]\n",
    "#should be 0.9375\n",
    "score = agreement(y,y_hat)\n",
    "print(score)"
   ]
  },
  {
   "cell_type": "code",
   "execution_count": 61,
   "metadata": {
    "collapsed": false
   },
   "outputs": [
    {
     "name": "stdout",
     "output_type": "stream",
     "text": [
      "1.0\n"
     ]
    }
   ],
   "source": [
    "y = [0,0,0,0,1,1,1,1,2,2,2,2,3,3,3,3]\n",
    "y_hat = [1,1,1,1,2,2,2,2,0,0,0,0,3,3,3,3]\n",
    "#should be 1.0\n",
    "score = agreement(y,y_hat)\n",
    "print(score)"
   ]
  },
  {
   "cell_type": "code",
   "execution_count": 62,
   "metadata": {
    "collapsed": false
   },
   "outputs": [
    {
     "name": "stdout",
     "output_type": "stream",
     "text": [
      "1.0\n"
     ]
    }
   ],
   "source": [
    "y = [0,1,2,3,1,2,3,0,2,2,2,2,3,3,3,3]\n",
    "y_hat = [2,0,1,3,0,1,3,2,1,1,1,1,3,3,3,3]\n",
    "#should be 1.0\n",
    "score = agreement(y,y_hat)\n",
    "print(score)"
   ]
  },
  {
   "cell_type": "code",
   "execution_count": 74,
   "metadata": {
    "collapsed": false
   },
   "outputs": [
    {
     "name": "stdout",
     "output_type": "stream",
     "text": [
      "0.625\n"
     ]
    }
   ],
   "source": [
    "y = [1,2,3,0,0,0,0,0]\n",
    "y_hat = [0,1,3,2,3,1,2,1]\n",
    "#should be 0.625\n",
    "score = agreement(y,y_hat)\n",
    "print(score)"
   ]
  },
  {
   "cell_type": "code",
   "execution_count": null,
   "metadata": {
    "collapsed": true
   },
   "outputs": [],
   "source": []
  }
 ],
 "metadata": {
  "kernelspec": {
   "display_name": "Python 3",
   "language": "python",
   "name": "python3"
  },
  "language_info": {
   "codemirror_mode": {
    "name": "ipython",
    "version": 3
   },
   "file_extension": ".py",
   "mimetype": "text/x-python",
   "name": "python",
   "nbconvert_exporter": "python",
   "pygments_lexer": "ipython3",
   "version": "3.5.3"
  }
 },
 "nbformat": 4,
 "nbformat_minor": 2
}
